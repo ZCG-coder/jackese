{
 "cells": [
  {
   "cell_type": "code",
   "execution_count": 73,
   "metadata": {
    "collapsed": true
   },
   "outputs": [],
   "source": [
    "import json\n",
    "import random"
   ]
  },
  {
   "cell_type": "code",
   "execution_count": 74,
   "outputs": [],
   "source": [
    "SPECIAL = [x for x in \"ÄÁÀÂËÉÈÊÏÍÌÎÖÓÒÔÜÚÙÛŸÃÕÑãõñçÇäáàâëéèêïíìîöóòôüúùûÿ\"]\n",
    "CHARS = [chr(x) for x in range(33, 127)]\n",
    "ALL = SPECIAL + CHARS"
   ],
   "metadata": {
    "collapsed": false
   }
  },
  {
   "cell_type": "markdown",
   "source": [
    "# Generate a random word\n",
    "Takes a length, then generates random letters to form a word"
   ],
   "metadata": {
    "collapsed": false
   }
  },
  {
   "cell_type": "code",
   "execution_count": 75,
   "outputs": [],
   "source": [
    "def generate_word(length: int) -> str:\n",
    "    word = \"\"\n",
    "    for i in range(length):\n",
    "        word += random.choice(ALL)\n",
    "    return word"
   ],
   "metadata": {
    "collapsed": false
   }
  },
  {
   "cell_type": "code",
   "execution_count": 76,
   "outputs": [],
   "source": [
    "with open(\"words.txt\", \"r\") as f:\n",
    "    words = f.read().splitlines()\n",
    "    data = dict.fromkeys(words)\n",
    "\n",
    "with open(\"data.json\", \"w\") as f:\n",
    "    data_new = {}\n",
    "    for k, v in data.items():\n",
    "        if k[0].isdigit() or k.startswith(\"#\"):\n",
    "            continue\n",
    "        data_new[k] = generate_word(len(k))\n",
    "    json.dump(data_new, f, ensure_ascii=False, indent=4)"
   ],
   "metadata": {
    "collapsed": false
   }
  }
 ],
 "metadata": {
  "kernelspec": {
   "display_name": "Python 3",
   "language": "python",
   "name": "python3"
  },
  "language_info": {
   "codemirror_mode": {
    "name": "ipython",
    "version": 2
   },
   "file_extension": ".py",
   "mimetype": "text/x-python",
   "name": "python",
   "nbconvert_exporter": "python",
   "pygments_lexer": "ipython2",
   "version": "2.7.6"
  }
 },
 "nbformat": 4,
 "nbformat_minor": 0
}
